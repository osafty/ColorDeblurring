{
  "nbformat": 4,
  "nbformat_minor": 0,
  "metadata": {
    "colab": {
      "name": "colorization_then_deblurring.ipynb",
      "provenance": [],
      "collapsed_sections": []
    },
    "kernelspec": {
      "name": "python3",
      "display_name": "Python 3"
    },
    "accelerator": "GPU"
  },
  "cells": [
    {
      "cell_type": "code",
      "metadata": {
        "id": "2HM5scAH_T1Q",
        "colab_type": "code",
        "colab": {}
      },
      "source": [
        "!git clone https://github.com/osafty/ColorDeblurring.git"
      ],
      "execution_count": 0,
      "outputs": []
    },
    {
      "cell_type": "code",
      "metadata": {
        "id": "cIfcHDWN_cVB",
        "colab_type": "code",
        "colab": {}
      },
      "source": [
        "import os\n",
        "os.getcwd()"
      ],
      "execution_count": 0,
      "outputs": []
    },
    {
      "cell_type": "code",
      "metadata": {
        "id": "rApUmUrp_dj7",
        "colab_type": "code",
        "colab": {}
      },
      "source": [
        "os.chdir('/content/ColorDeblurring/second_implementation/colorization')"
      ],
      "execution_count": 0,
      "outputs": []
    },
    {
      "cell_type": "code",
      "metadata": {
        "id": "hNYypYkfE8o8",
        "colab_type": "code",
        "colab": {}
      },
      "source": [
        "!chmod u+rwx ./models/fetch_release_models.sh"
      ],
      "execution_count": 0,
      "outputs": []
    },
    {
      "cell_type": "code",
      "metadata": {
        "id": "EOlWtmTl_fG5",
        "colab_type": "code",
        "colab": {}
      },
      "source": [
        "!./models/fetch_release_models.sh"
      ],
      "execution_count": 0,
      "outputs": []
    },
    {
      "cell_type": "code",
      "metadata": {
        "id": "Vmkk8MDR_hQV",
        "colab_type": "code",
        "colab": {}
      },
      "source": [
        "os.getcwd()"
      ],
      "execution_count": 0,
      "outputs": []
    },
    {
      "cell_type": "code",
      "metadata": {
        "id": "1ma7klIW_i1c",
        "colab_type": "code",
        "colab": {}
      },
      "source": [
        "!apt install -y caffe-cuda"
      ],
      "execution_count": 0,
      "outputs": []
    },
    {
      "cell_type": "code",
      "metadata": {
        "id": "eoWe5rK6_lG5",
        "colab_type": "code",
        "colab": {}
      },
      "source": [
        "!pip install scikit-image==0.11.3"
      ],
      "execution_count": 0,
      "outputs": []
    },
    {
      "cell_type": "code",
      "metadata": {
        "id": "LCuKioCr_r3g",
        "colab_type": "code",
        "colab": {}
      },
      "source": [
        "!chmod u+rwx ./colorize.py"
      ],
      "execution_count": 0,
      "outputs": []
    },
    {
      "cell_type": "code",
      "metadata": {
        "id": "FhgQv3slNFYM",
        "colab_type": "code",
        "colab": {}
      },
      "source": [
        "os.chdir('/content/ColorDeblurring/second_implementation')\n",
        "os.mkdir('image_deblur_res')\n",
        "os.mkdir('image_col_res')\n",
        "os.chdir('/content/ColorDeblurring/second_implementation/colorization')"
      ],
      "execution_count": 0,
      "outputs": []
    },
    {
      "cell_type": "code",
      "metadata": {
        "id": "_4WD7p8j_zEb",
        "colab_type": "code",
        "colab": {}
      },
      "source": [
        "!./colorize.py -img_in /content/ColorDeblurring/second_implementation/image_sample/21_HUAWEI-Y9_F.jpg -img_out /content/ColorDeblurring/second_implementation/image_col_res/pan_blur_h.png"
      ],
      "execution_count": 0,
      "outputs": []
    },
    {
      "cell_type": "code",
      "metadata": {
        "id": "73MMVo2H_9T4",
        "colab_type": "code",
        "colab": {}
      },
      "source": [
        "os.chdir('/content/ColorDeblurring/second_implementation/deblurring')"
      ],
      "execution_count": 0,
      "outputs": []
    },
    {
      "cell_type": "code",
      "metadata": {
        "id": "Obhjo4q_AsSI",
        "colab_type": "code",
        "colab": {}
      },
      "source": [
        "!pip install virtualenv"
      ],
      "execution_count": 0,
      "outputs": []
    },
    {
      "cell_type": "code",
      "metadata": {
        "id": "CiYWEGRAAuc2",
        "colab_type": "code",
        "colab": {}
      },
      "source": [
        "!virtualenv venv -p python3"
      ],
      "execution_count": 0,
      "outputs": []
    },
    {
      "cell_type": "code",
      "metadata": {
        "id": "D42VUz5LAw5k",
        "colab_type": "code",
        "colab": {}
      },
      "source": [
        "!. venv/bin/activate"
      ],
      "execution_count": 0,
      "outputs": []
    },
    {
      "cell_type": "code",
      "metadata": {
        "id": "SI8xEgVqA0SK",
        "colab_type": "code",
        "colab": {}
      },
      "source": [
        "! pip install -r requirements/requirements.txt"
      ],
      "execution_count": 0,
      "outputs": []
    },
    {
      "cell_type": "code",
      "metadata": {
        "id": "ag1CnZOCA2e1",
        "colab_type": "code",
        "colab": {}
      },
      "source": [
        "! pip install -e ."
      ],
      "execution_count": 0,
      "outputs": []
    },
    {
      "cell_type": "code",
      "metadata": {
        "id": "P4tYFBA8A4bt",
        "colab_type": "code",
        "colab": {}
      },
      "source": [
        "!pip install keras==2.1.5 tensorflow==1.5"
      ],
      "execution_count": 0,
      "outputs": []
    },
    {
      "cell_type": "code",
      "metadata": {
        "id": "Nsit24s0A6Bm",
        "colab_type": "code",
        "colab": {}
      },
      "source": [
        "os.getcwd()"
      ],
      "execution_count": 0,
      "outputs": []
    },
    {
      "cell_type": "code",
      "metadata": {
        "id": "iNgaUgmKA-vy",
        "colab_type": "code",
        "colab": {}
      },
      "source": [
        "! python ./scripts/deblur_image.py --weight_path=./generator.h5 --input_dir=/content/ColorDeblurring/second_implementation/image_col_res --output_dir=/content/ColorDeblurring/second_implementation/image_deblur_res"
      ],
      "execution_count": 0,
      "outputs": []
    },
    {
      "cell_type": "code",
      "metadata": {
        "id": "0H6q6AGkOIwA",
        "colab_type": "code",
        "colab": {}
      },
      "source": [
        "#os.chdir('/content/image_col_res')\n",
        "#os.remove(\"out.png\")\n",
        "#os.chdir('/content/image_deblur_res')\n",
        "#os.remove(\"1_XIAOMI-PROCOFONE-F1_F.jpg\")"
      ],
      "execution_count": 0,
      "outputs": []
    }
  ]
}