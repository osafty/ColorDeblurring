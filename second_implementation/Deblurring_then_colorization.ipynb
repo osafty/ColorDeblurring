{
  "nbformat": 4,
  "nbformat_minor": 0,
  "metadata": {
    "colab": {
      "name": "Deblurring_then_colorization.ipynb",
      "provenance": [],
      "collapsed_sections": []
    },
    "kernelspec": {
      "name": "python3",
      "display_name": "Python 3"
    },
    "accelerator": "GPU"
  },
  "cells": [
    {
      "cell_type": "code",
      "metadata": {
        "id": "ki8rkcYGXmHR",
        "colab_type": "code",
        "colab": {}
      },
      "source": [
        "!git clone https://github.com/osafty/ColorDeblurring.git"
      ],
      "execution_count": 0,
      "outputs": []
    },
    {
      "cell_type": "code",
      "metadata": {
        "id": "bl5sBqMjK4AA",
        "colab_type": "code",
        "colab": {}
      },
      "source": [
        "import os\n",
        "os.getcwd()"
      ],
      "execution_count": 0,
      "outputs": []
    },
    {
      "cell_type": "code",
      "metadata": {
        "id": "Q9JPszhpK4qS",
        "colab_type": "code",
        "colab": {}
      },
      "source": [
        "os.chdir('/content/ColorDeblurring/second_implementation/deblurring')"
      ],
      "execution_count": 0,
      "outputs": []
    },
    {
      "cell_type": "code",
      "metadata": {
        "id": "ZsY8lcXQcA0Z",
        "colab_type": "code",
        "colab": {}
      },
      "source": [
        "!pip install virtualenv"
      ],
      "execution_count": 0,
      "outputs": []
    },
    {
      "cell_type": "code",
      "metadata": {
        "id": "aFz7ShzKYnYp",
        "colab_type": "code",
        "colab": {}
      },
      "source": [
        "!virtualenv venv -p python3"
      ],
      "execution_count": 0,
      "outputs": []
    },
    {
      "cell_type": "code",
      "metadata": {
        "id": "i4cg6BCUcFnK",
        "colab_type": "code",
        "colab": {}
      },
      "source": [
        "!. venv/bin/activate"
      ],
      "execution_count": 0,
      "outputs": []
    },
    {
      "cell_type": "code",
      "metadata": {
        "id": "vznCtPX_cv8D",
        "colab_type": "code",
        "colab": {}
      },
      "source": [
        "! pip install -r requirements/requirements.txt"
      ],
      "execution_count": 0,
      "outputs": []
    },
    {
      "cell_type": "code",
      "metadata": {
        "id": "34kFlQeudoYu",
        "colab_type": "code",
        "colab": {}
      },
      "source": [
        "! pip install -e ."
      ],
      "execution_count": 0,
      "outputs": []
    },
    {
      "cell_type": "code",
      "metadata": {
        "id": "yZdE8AoXmWp9",
        "colab_type": "code",
        "colab": {}
      },
      "source": [
        "!pip install keras==2.1.5 tensorflow==1.5"
      ],
      "execution_count": 0,
      "outputs": []
    },
    {
      "cell_type": "code",
      "metadata": {
        "id": "hETA9RV6LkSn",
        "colab_type": "code",
        "colab": {}
      },
      "source": [
        "os.chdir('/content/ColorDeblurring/second_implementation')\n",
        "os.mkdir('image_deblur_res')\n",
        "os.mkdir('image_col_res')\n",
        "os.chdir('/content/ColorDeblurring/second_implementation/deblurring')"
      ],
      "execution_count": 0,
      "outputs": []
    },
    {
      "cell_type": "code",
      "metadata": {
        "id": "cukbec8wLx7A",
        "colab_type": "code",
        "colab": {}
      },
      "source": [
        "! python ./scripts/deblur_image.py --weight_path=./generator.h5 --input_dir=/content/ColorDeblurring/second_implementation/image_sample --output_dir=/content/ColorDeblurring/second_implementation/image_deblur_res"
      ],
      "execution_count": 0,
      "outputs": []
    },
    {
      "cell_type": "code",
      "metadata": {
        "id": "XntqkvMkjqR9",
        "colab_type": "code",
        "colab": {}
      },
      "source": [
        "os.chdir('/content/ColorDeblurring/second_implementation/colorization')"
      ],
      "execution_count": 0,
      "outputs": []
    },
    {
      "cell_type": "code",
      "metadata": {
        "id": "EYpg-s1Tj_Me",
        "colab_type": "code",
        "colab": {}
      },
      "source": [
        "!chmod u+rwx ./models/fetch_release_models.sh\n",
        "!./models/fetch_release_models.sh"
      ],
      "execution_count": 0,
      "outputs": []
    },
    {
      "cell_type": "code",
      "metadata": {
        "id": "qrxTyR4ckSW4",
        "colab_type": "code",
        "colab": {}
      },
      "source": [
        "!apt install -y caffe-cuda"
      ],
      "execution_count": 0,
      "outputs": []
    },
    {
      "cell_type": "code",
      "metadata": {
        "id": "UcNtmajgknRZ",
        "colab_type": "code",
        "colab": {}
      },
      "source": [
        "!pip install scikit-image==0.11.3"
      ],
      "execution_count": 0,
      "outputs": []
    },
    {
      "cell_type": "code",
      "metadata": {
        "id": "V1yCYTSiozEn",
        "colab_type": "code",
        "colab": {}
      },
      "source": [
        "os.getcwd()"
      ],
      "execution_count": 0,
      "outputs": []
    },
    {
      "cell_type": "code",
      "metadata": {
        "id": "IfAJ3Y9sluxC",
        "colab_type": "code",
        "colab": {}
      },
      "source": [
        "!chmod u+rwx ./colorize.py"
      ],
      "execution_count": 0,
      "outputs": []
    },
    {
      "cell_type": "code",
      "metadata": {
        "id": "POtAQwnQm6rm",
        "colab_type": "code",
        "colab": {}
      },
      "source": [
        "!./colorize.py -img_in /content/ColorDeblurring/second_implementation/image_deblur_res/21_HUAWEI-Y9_F.jpg -img_out /content/ColorDeblurring/second_implementation/image_col_res//21_HUAWEI-Y9_F.jpg"
      ],
      "execution_count": 0,
      "outputs": []
    }
  ]
}